{
 "cells": [
  {
   "cell_type": "code",
   "execution_count": 8,
   "metadata": {},
   "outputs": [],
   "source": [
    "import os\n",
    "\n",
    "dir_list = [\n",
    "    \"/media/bruno/f71fc4fd-abcd-4a4b-9fb1-6a8899041c1c/FX-Training-Data/Sorted/EURUSD\",\n",
    "    \"/media/bruno/f71fc4fd-abcd-4a4b-9fb1-6a8899041c1c/FX-Training-Data/Sorted/GBPUSD\",\n",
    "    \"/media/bruno/f71fc4fd-abcd-4a4b-9fb1-6a8899041c1c/FX-Training-Data/Sorted/GBPJPY\",\n",
    "]\n",
    "\n",
    "def remove_1m(dir_list):\n",
    "    for dir in dir_list:\n",
    "        file_paths = os.listdir(dir)\n",
    "\n",
    "        for file in file_paths:\n",
    "            if(file.endswith('d_modified.csv')):\n",
    "                full_name = os.path.join(dir,file)\n",
    "                os.remove(full_name)\n",
    "                # os.rename(full_name, full_name[:-13]+'.csv')\n",
    "\n",
    "remove_1m(dir_list)\n"
   ]
  }
 ],
 "metadata": {
  "kernelspec": {
   "display_name": "Python 3.8.10 64-bit",
   "language": "python",
   "name": "python3"
  },
  "language_info": {
   "codemirror_mode": {
    "name": "ipython",
    "version": 3
   },
   "file_extension": ".py",
   "mimetype": "text/x-python",
   "name": "python",
   "nbconvert_exporter": "python",
   "pygments_lexer": "ipython3",
   "version": "3.8.10"
  },
  "orig_nbformat": 4,
  "vscode": {
   "interpreter": {
    "hash": "916dbcbb3f70747c44a77c7bcd40155683ae19c65e1c03b4aa3499c5328201f1"
   }
  }
 },
 "nbformat": 4,
 "nbformat_minor": 2
}
