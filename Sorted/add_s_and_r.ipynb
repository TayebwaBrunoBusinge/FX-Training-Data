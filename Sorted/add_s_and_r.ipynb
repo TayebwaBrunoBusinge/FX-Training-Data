{
 "cells": [
  {
   "cell_type": "code",
   "execution_count": 1,
   "metadata": {},
   "outputs": [],
   "source": [
    "import pandas as pd\n",
    "import os\n",
    "\n",
    "# List directories to search.\n",
    "dir_list = [\n",
    "    \"/media/bruno/f71fc4fd-abcd-4a4b-9fb1-6a8899041c1c/FX-Training-Data/Sorted/EURUSD\",\n",
    "    \"/media/bruno/f71fc4fd-abcd-4a4b-9fb1-6a8899041c1c/FX-Training-Data/Sorted/GBPUSD\",\n",
    "    \"/media/bruno/f71fc4fd-abcd-4a4b-9fb1-6a8899041c1c/FX-Training-Data/Sorted/GBPJPY\",\n",
    "]\n",
    "\n",
    "# Iterate over the directories\n",
    "for directory in dir_list:\n",
    "    # Get the names of all the CSV files in the directory\n",
    "    files = [f for f in os.listdir(directory) if f.endswith('_modified.csv')]\n",
    "\n",
    "    # Iterate over the CSV files\n",
    "    for file in files:\n",
    "        # Read the CSV file into a DataFrame\n",
    "        df = pd.read_csv(os.path.join(directory, file))\n",
    "\n",
    "        # Create new columns for support and resistance\n",
    "        df['support'] = 0\n",
    "        df['resistance'] = 0\n",
    "\n",
    "        # Iterate over the rows in the DataFrame\n",
    "        for i in range(1, len(df)):\n",
    "            # Check if the current row is a bullish candle followed by a bearish candle\n",
    "            if df.iloc[i]['st_bullish'] == 1 and df.iloc[i-1]['st_bearish'] == 1:\n",
    "                df.at[i, 'support'] = 1\n",
    "            # Check if the current row is a bearish candle followed by a bullish candle\n",
    "            elif df.iloc[i]['st_bearish'] == 1 and df.iloc[i-1]['st_bullish'] == 1:\n",
    "                df.at[i, 'resistance'] = 1\n",
    "\n",
    "        # Save the modified DataFrame to a new CSV file\n",
    "        output_file = os.path.join(directory, file)\n",
    "        df.to_csv(output_file, index=False)"
   ]
  }
 ],
 "metadata": {
  "kernelspec": {
   "display_name": "Python 3.8.10 64-bit",
   "language": "python",
   "name": "python3"
  },
  "language_info": {
   "codemirror_mode": {
    "name": "ipython",
    "version": 3
   },
   "file_extension": ".py",
   "mimetype": "text/x-python",
   "name": "python",
   "nbconvert_exporter": "python",
   "pygments_lexer": "ipython3",
   "version": "3.8.10 (default, Nov 14 2022, 12:59:47) \n[GCC 9.4.0]"
  },
  "orig_nbformat": 4,
  "vscode": {
   "interpreter": {
    "hash": "916dbcbb3f70747c44a77c7bcd40155683ae19c65e1c03b4aa3499c5328201f1"
   }
  }
 },
 "nbformat": 4,
 "nbformat_minor": 2
}
