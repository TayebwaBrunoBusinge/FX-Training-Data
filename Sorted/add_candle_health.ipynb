{
 "cells": [
  {
   "cell_type": "code",
   "execution_count": 4,
   "metadata": {},
   "outputs": [],
   "source": [
    "import pandas as pd\n",
    "import numpy as np\n",
    "import os\n",
    "\n",
    "dir_list = [\n",
    "    \"/media/bruno/f71fc4fd-abcd-4a4b-9fb1-6a8899041c1c/FX-Training-Data/Sorted/EURUSD\",\n",
    "    \"/media/bruno/f71fc4fd-abcd-4a4b-9fb1-6a8899041c1c/FX-Training-Data/Sorted/GBPUSD\",\n",
    "    \"/media/bruno/f71fc4fd-abcd-4a4b-9fb1-6a8899041c1c/FX-Training-Data/Sorted/GBPJPY\",\n",
    "]\n",
    "\n",
    "# Iterate over the directories\n",
    "for directory in dir_list:\n",
    "    # Get the names of all the CSV files in the directory\n",
    "    files = [f for f in os.listdir(directory) if f.endswith('_modified.csv')]\n",
    "\n",
    "    # Iterate over the CSV files\n",
    "    for file in files:\n",
    "        # Read the CSV file into a DataFrame\n",
    "        df = pd.read_csv(os.path.join(directory, file))\n",
    "\n",
    "        # Calculate the wick lengths\n",
    "        df['upper_wick_length'] = np.where(df['p_open'] == df['p_close'], 0, (df['p_high'] - df[['p_open', 'p_close']].max(axis=1)) / (df['p_high'] - df['p_low']))\n",
    "        df['lower_wick_length'] = np.where(df['p_open'] == df['p_close'], 0, (df[['p_open', 'p_close']].min(axis=1) - df['p_low']) / (df['p_high'] - df['p_low']))\n",
    "\n",
    "        # Scale the wick lengths to a range of 0 to 5\n",
    "        df['upper_wick_length'] = np.where(df['upper_wick_length'] >= 0.95, 0,\n",
    "                                        np.where(\n",
    "                                        (df['upper_wick_length'] >= 0.8) & (df['upper_wick_length'] < 0.95), 1,\n",
    "                                        np.where(\n",
    "                                        (df['upper_wick_length'] >= 0.6) & (df['upper_wick_length'] < 0.8), 2,\n",
    "                                        np.where(\n",
    "                                        (df['upper_wick_length'] >= 0.4) & (df['upper_wick_length'] < 0.6), 3,\n",
    "                                        np.where(\n",
    "                                        (df['upper_wick_length'] >= 0.2) & (df['upper_wick_length'] < 0.4), 4,\n",
    "                                        np.where(\n",
    "                                        (df['upper_wick_length'] >= 0) & (df['upper_wick_length'] < 0.2), 5, np.nan))))))\n",
    "\n",
    "        df['lower_wick_length'] = np.where(df['lower_wick_length'] >= 0.95, 0,\n",
    "                                        np.where(\n",
    "                                        (df['lower_wick_length'] >= 0.8) & (df['lower_wick_length'] < 0.95), 1,\n",
    "                                        np.where(\n",
    "                                        (df['lower_wick_length'] >= 0.6) & (df['lower_wick_length'] < 0.8), 2,\n",
    "                                        np.where(\n",
    "                                        (df['lower_wick_length'] >= 0.4) & (df['lower_wick_length'] < 0.6), 3,\n",
    "                                        np.where(\n",
    "                                        (df['lower_wick_length'] >= 0.2) & (df['lower_wick_length'] < 0.4), 4,\n",
    "                                        np.where(\n",
    "                                        (df['lower_wick_length'] >= 0) & (df['lower_wick_length'] < 0.2), 5, np.nan))))))\n",
    "\n",
    "        # Write the modified DataFrame to a new CSV file\n",
    "        output_file = os.path.join(directory, file)\n",
    "        df.to_csv(output_file, index=False)"
   ]
  }
 ],
 "metadata": {
  "kernelspec": {
   "display_name": "Python 3.8.10 64-bit",
   "language": "python",
   "name": "python3"
  },
  "language_info": {
   "codemirror_mode": {
    "name": "ipython",
    "version": 3
   },
   "file_extension": ".py",
   "mimetype": "text/x-python",
   "name": "python",
   "nbconvert_exporter": "python",
   "pygments_lexer": "ipython3",
   "version": "3.8.10"
  },
  "orig_nbformat": 4,
  "vscode": {
   "interpreter": {
    "hash": "916dbcbb3f70747c44a77c7bcd40155683ae19c65e1c03b4aa3499c5328201f1"
   }
  }
 },
 "nbformat": 4,
 "nbformat_minor": 2
}
