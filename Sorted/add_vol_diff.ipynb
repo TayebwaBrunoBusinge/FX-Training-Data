{
 "cells": [
  {
   "cell_type": "code",
   "execution_count": 8,
   "metadata": {},
   "outputs": [],
   "source": [
    "import os\n",
    "import pandas as pd\n",
    "\n",
    "# List of directories containing the CSV files\n",
    "dir_list = [\n",
    "    \"/media/bruno/f71fc4fd-abcd-4a4b-9fb1-6a8899041c1c/FX-Training-Data/Sorted/EURUSD\",\n",
    "    \"/media/bruno/f71fc4fd-abcd-4a4b-9fb1-6a8899041c1c/FX-Training-Data/Sorted/GBPUSD\",\n",
    "    \"/media/bruno/f71fc4fd-abcd-4a4b-9fb1-6a8899041c1c/FX-Training-Data/Sorted/GBPJPY\",\n",
    "]\n",
    "\n",
    "# Iterate over the directories\n",
    "for directory in dir_list:\n",
    "    # Get the names of all the CSV files in the directory\n",
    "    files = [f for f in os.listdir(directory) if f.endswith('.csv')]\n",
    "\n",
    "    # Iterate over the CSV files\n",
    "    for file in files:\n",
    "        # Read the CSV file into a DataFrame\n",
    "        df = pd.read_csv(os.path.join(directory, file))\n",
    "\n",
    "        # Calculate the volume difference\n",
    "        df['vol_diff'] = df['volume'].pct_change()\n",
    "\n",
    "        # Assign a value on a scale of -5 to 5 based on the volume difference\n",
    "        df['vol_diff'] = df['vol_diff'].apply(lambda x: -5 if x <= -0.8 else (-4 if x <= -0.6 else (-3 if x <= -0.4 else (-2 if x <= -0.2 else (-1 if x <= -0.1 else (5 if x >= 0.8 else (4 if x >= 0.6 else (3 if x >= 0.4 else (2 if x >= 0.2 else (1 if x >= 0.1 else (0 if x >= 0 else None)))))))))))\n",
    "\n",
    "        # Write the modified DataFrame to a new CSV file\n",
    "        output_file = os.path.join(directory, file[:-4] + '_modified.csv')\n",
    "        df.to_csv(output_file, index=False)\n"
   ]
  }
 ],
 "metadata": {
  "kernelspec": {
   "display_name": "Python 3.8.10 64-bit",
   "language": "python",
   "name": "python3"
  },
  "language_info": {
   "codemirror_mode": {
    "name": "ipython",
    "version": 3
   },
   "file_extension": ".py",
   "mimetype": "text/x-python",
   "name": "python",
   "nbconvert_exporter": "python",
   "pygments_lexer": "ipython3",
   "version": "3.8.10"
  },
  "orig_nbformat": 4,
  "vscode": {
   "interpreter": {
    "hash": "916dbcbb3f70747c44a77c7bcd40155683ae19c65e1c03b4aa3499c5328201f1"
   }
  }
 },
 "nbformat": 4,
 "nbformat_minor": 2
}
